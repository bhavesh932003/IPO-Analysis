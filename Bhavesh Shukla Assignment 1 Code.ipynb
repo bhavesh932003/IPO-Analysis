{
 "cells": [
  {
   "cell_type": "code",
   "execution_count": 1,
   "id": "c10d45ff",
   "metadata": {},
   "outputs": [],
   "source": [
    "import openpyxl\n",
    "import requests\n",
    "from bs4 import BeautifulSoup\n"
   ]
  },
  {
   "cell_type": "code",
   "execution_count": 8,
   "id": "d7d75d43",
   "metadata": {},
   "outputs": [],
   "source": [
    "r = requests.get('https://www.chittorgarh.com/report/ipo_report_listing_day_gain/98/')\n",
    "names = []\n",
    "soup = BeautifulSoup(r.text)\n",
    "tds = soup.findAll('tr')\n",
    "for i in tds:\n",
    "    trs = i.findAll('td')\n",
    "    name = [j.text for j in trs]\n",
    "    try:\n",
    "        del name[1]\n",
    "        del name[3:7]\n",
    "    except:\n",
    "        continue\n",
    "    if(len(name) ==  9):\n",
    "        names.append(name)"
   ]
  },
  {
   "cell_type": "code",
   "execution_count": 12,
   "id": "e5570688",
   "metadata": {},
   "outputs": [],
   "source": [
    "wb = openpyxl.Workbook()\n",
    "\n",
    "# grab the active worksheet\n",
    "ws = wb.active\n",
    "\n",
    "# Data can be assigned directly to cells\n",
    "\n",
    "ws.append([\"Issuer Company\", \"Issue Price\", \"Issue Price (Rs Cr)\", \"Total\", \"Open Price\", \"Low Price\", \"High Price\", \"Close Price\", \"% Change\"])\n",
    "# Rows can also be appended\n",
    "for i in names:\n",
    "    ws.append(i)\n",
    "\n",
    "# Python types will automatically be converted\n",
    "\n",
    "\n",
    "# Save the file\n",
    "wb.save(\"sample.xlsx\")"
   ]
  }
 ],
 "metadata": {
  "kernelspec": {
   "display_name": "Python 3 (ipykernel)",
   "language": "python",
   "name": "python3"
  },
  "language_info": {
   "codemirror_mode": {
    "name": "ipython",
    "version": 3
   },
   "file_extension": ".py",
   "mimetype": "text/x-python",
   "name": "python",
   "nbconvert_exporter": "python",
   "pygments_lexer": "ipython3",
   "version": "3.9.12"
  }
 },
 "nbformat": 4,
 "nbformat_minor": 5
}
